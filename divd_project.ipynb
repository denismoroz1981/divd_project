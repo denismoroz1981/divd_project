{
 "cells": [
  {
   "cell_type": "code",
   "execution_count": 6,
   "metadata": {
    "collapsed": true
   },
   "outputs": [],
   "source": [
    "import pandas as pd\n",
    "from datetime import datetime"
   ]
  },
  {
   "cell_type": "code",
   "execution_count": 52,
   "metadata": {},
   "outputs": [],
   "source": [
    "df=pd.read_csv(\"base.csv\")"
   ]
  },
  {
   "cell_type": "code",
   "execution_count": 53,
   "metadata": {},
   "outputs": [
    {
     "data": {
      "text/html": [
       "<div>\n",
       "<style>\n",
       "    .dataframe thead tr:only-child th {\n",
       "        text-align: right;\n",
       "    }\n",
       "\n",
       "    .dataframe thead th {\n",
       "        text-align: left;\n",
       "    }\n",
       "\n",
       "    .dataframe tbody tr th {\n",
       "        vertical-align: top;\n",
       "    }\n",
       "</style>\n",
       "<table border=\"1\" class=\"dataframe\">\n",
       "  <thead>\n",
       "    <tr style=\"text-align: right;\">\n",
       "      <th></th>\n",
       "      <th>Month</th>\n",
       "      <th>Day</th>\n",
       "      <th>Version</th>\n",
       "      <th>Shop</th>\n",
       "      <th>Hour</th>\n",
       "      <th>Volume</th>\n",
       "    </tr>\n",
       "  </thead>\n",
       "  <tbody>\n",
       "    <tr>\n",
       "      <th>0</th>\n",
       "      <td>8</td>\n",
       "      <td>1</td>\n",
       "      <td>actual</td>\n",
       "      <td>Total</td>\n",
       "      <td>1</td>\n",
       "      <td>4930.90</td>\n",
       "    </tr>\n",
       "    <tr>\n",
       "      <th>1</th>\n",
       "      <td>8</td>\n",
       "      <td>1</td>\n",
       "      <td>actual</td>\n",
       "      <td>KP</td>\n",
       "      <td>1</td>\n",
       "      <td>2315.77</td>\n",
       "    </tr>\n",
       "    <tr>\n",
       "      <th>2</th>\n",
       "      <td>8</td>\n",
       "      <td>1</td>\n",
       "      <td>actual</td>\n",
       "      <td>MP</td>\n",
       "      <td>1</td>\n",
       "      <td>2615.13</td>\n",
       "    </tr>\n",
       "    <tr>\n",
       "      <th>3</th>\n",
       "      <td>8</td>\n",
       "      <td>1</td>\n",
       "      <td>actual</td>\n",
       "      <td>unbalance</td>\n",
       "      <td>1</td>\n",
       "      <td>-621.90</td>\n",
       "    </tr>\n",
       "    <tr>\n",
       "      <th>4</th>\n",
       "      <td>8</td>\n",
       "      <td>1</td>\n",
       "      <td>plan</td>\n",
       "      <td>Total</td>\n",
       "      <td>1</td>\n",
       "      <td>4309.00</td>\n",
       "    </tr>\n",
       "  </tbody>\n",
       "</table>\n",
       "</div>"
      ],
      "text/plain": [
       "   Month  Day Version       Shop  Hour   Volume\n",
       "0      8    1  actual      Total     1  4930.90\n",
       "1      8    1  actual         KP     1  2315.77\n",
       "2      8    1  actual         MP     1  2615.13\n",
       "3      8    1  actual  unbalance     1  -621.90\n",
       "4      8    1    plan      Total     1  4309.00"
      ]
     },
     "execution_count": 53,
     "metadata": {},
     "output_type": "execute_result"
    }
   ],
   "source": [
    "df.head()"
   ]
  },
  {
   "cell_type": "code",
   "execution_count": 54,
   "metadata": {},
   "outputs": [],
   "source": [
    "df[\"Date\"]=df[\"Month\"].astype(str)+\"/\"+df[\"Day\"].astype(str)+\"/2019\""
   ]
  },
  {
   "cell_type": "code",
   "execution_count": 55,
   "metadata": {},
   "outputs": [
    {
     "data": {
      "text/html": [
       "<div>\n",
       "<style>\n",
       "    .dataframe thead tr:only-child th {\n",
       "        text-align: right;\n",
       "    }\n",
       "\n",
       "    .dataframe thead th {\n",
       "        text-align: left;\n",
       "    }\n",
       "\n",
       "    .dataframe tbody tr th {\n",
       "        vertical-align: top;\n",
       "    }\n",
       "</style>\n",
       "<table border=\"1\" class=\"dataframe\">\n",
       "  <thead>\n",
       "    <tr style=\"text-align: right;\">\n",
       "      <th></th>\n",
       "      <th>Month</th>\n",
       "      <th>Day</th>\n",
       "      <th>Version</th>\n",
       "      <th>Shop</th>\n",
       "      <th>Hour</th>\n",
       "      <th>Volume</th>\n",
       "      <th>Date</th>\n",
       "    </tr>\n",
       "  </thead>\n",
       "  <tbody>\n",
       "    <tr>\n",
       "      <th>0</th>\n",
       "      <td>8</td>\n",
       "      <td>1</td>\n",
       "      <td>actual</td>\n",
       "      <td>Total</td>\n",
       "      <td>1</td>\n",
       "      <td>4930.90</td>\n",
       "      <td>8/1/2019</td>\n",
       "    </tr>\n",
       "    <tr>\n",
       "      <th>1</th>\n",
       "      <td>8</td>\n",
       "      <td>1</td>\n",
       "      <td>actual</td>\n",
       "      <td>KP</td>\n",
       "      <td>1</td>\n",
       "      <td>2315.77</td>\n",
       "      <td>8/1/2019</td>\n",
       "    </tr>\n",
       "    <tr>\n",
       "      <th>2</th>\n",
       "      <td>8</td>\n",
       "      <td>1</td>\n",
       "      <td>actual</td>\n",
       "      <td>MP</td>\n",
       "      <td>1</td>\n",
       "      <td>2615.13</td>\n",
       "      <td>8/1/2019</td>\n",
       "    </tr>\n",
       "    <tr>\n",
       "      <th>3</th>\n",
       "      <td>8</td>\n",
       "      <td>1</td>\n",
       "      <td>actual</td>\n",
       "      <td>unbalance</td>\n",
       "      <td>1</td>\n",
       "      <td>-621.90</td>\n",
       "      <td>8/1/2019</td>\n",
       "    </tr>\n",
       "    <tr>\n",
       "      <th>4</th>\n",
       "      <td>8</td>\n",
       "      <td>1</td>\n",
       "      <td>plan</td>\n",
       "      <td>Total</td>\n",
       "      <td>1</td>\n",
       "      <td>4309.00</td>\n",
       "      <td>8/1/2019</td>\n",
       "    </tr>\n",
       "  </tbody>\n",
       "</table>\n",
       "</div>"
      ],
      "text/plain": [
       "   Month  Day Version       Shop  Hour   Volume      Date\n",
       "0      8    1  actual      Total     1  4930.90  8/1/2019\n",
       "1      8    1  actual         KP     1  2315.77  8/1/2019\n",
       "2      8    1  actual         MP     1  2615.13  8/1/2019\n",
       "3      8    1  actual  unbalance     1  -621.90  8/1/2019\n",
       "4      8    1    plan      Total     1  4309.00  8/1/2019"
      ]
     },
     "execution_count": 55,
     "metadata": {},
     "output_type": "execute_result"
    }
   ],
   "source": [
    "df.head()"
   ]
  },
  {
   "cell_type": "code",
   "execution_count": 56,
   "metadata": {},
   "outputs": [],
   "source": [
    "df[\"Time\"]=df[\"Hour\"].astype(str)+\":00:00\""
   ]
  },
  {
   "cell_type": "code",
   "execution_count": 57,
   "metadata": {},
   "outputs": [
    {
     "data": {
      "text/html": [
       "<div>\n",
       "<style>\n",
       "    .dataframe thead tr:only-child th {\n",
       "        text-align: right;\n",
       "    }\n",
       "\n",
       "    .dataframe thead th {\n",
       "        text-align: left;\n",
       "    }\n",
       "\n",
       "    .dataframe tbody tr th {\n",
       "        vertical-align: top;\n",
       "    }\n",
       "</style>\n",
       "<table border=\"1\" class=\"dataframe\">\n",
       "  <thead>\n",
       "    <tr style=\"text-align: right;\">\n",
       "      <th></th>\n",
       "      <th>Month</th>\n",
       "      <th>Day</th>\n",
       "      <th>Version</th>\n",
       "      <th>Shop</th>\n",
       "      <th>Hour</th>\n",
       "      <th>Volume</th>\n",
       "      <th>Date</th>\n",
       "      <th>Time</th>\n",
       "    </tr>\n",
       "  </thead>\n",
       "  <tbody>\n",
       "    <tr>\n",
       "      <th>0</th>\n",
       "      <td>8</td>\n",
       "      <td>1</td>\n",
       "      <td>actual</td>\n",
       "      <td>Total</td>\n",
       "      <td>1</td>\n",
       "      <td>4930.90</td>\n",
       "      <td>8/1/2019</td>\n",
       "      <td>1:00:00</td>\n",
       "    </tr>\n",
       "    <tr>\n",
       "      <th>1</th>\n",
       "      <td>8</td>\n",
       "      <td>1</td>\n",
       "      <td>actual</td>\n",
       "      <td>KP</td>\n",
       "      <td>1</td>\n",
       "      <td>2315.77</td>\n",
       "      <td>8/1/2019</td>\n",
       "      <td>1:00:00</td>\n",
       "    </tr>\n",
       "    <tr>\n",
       "      <th>2</th>\n",
       "      <td>8</td>\n",
       "      <td>1</td>\n",
       "      <td>actual</td>\n",
       "      <td>MP</td>\n",
       "      <td>1</td>\n",
       "      <td>2615.13</td>\n",
       "      <td>8/1/2019</td>\n",
       "      <td>1:00:00</td>\n",
       "    </tr>\n",
       "    <tr>\n",
       "      <th>3</th>\n",
       "      <td>8</td>\n",
       "      <td>1</td>\n",
       "      <td>actual</td>\n",
       "      <td>unbalance</td>\n",
       "      <td>1</td>\n",
       "      <td>-621.90</td>\n",
       "      <td>8/1/2019</td>\n",
       "      <td>1:00:00</td>\n",
       "    </tr>\n",
       "    <tr>\n",
       "      <th>4</th>\n",
       "      <td>8</td>\n",
       "      <td>1</td>\n",
       "      <td>plan</td>\n",
       "      <td>Total</td>\n",
       "      <td>1</td>\n",
       "      <td>4309.00</td>\n",
       "      <td>8/1/2019</td>\n",
       "      <td>1:00:00</td>\n",
       "    </tr>\n",
       "  </tbody>\n",
       "</table>\n",
       "</div>"
      ],
      "text/plain": [
       "   Month  Day Version       Shop  Hour   Volume      Date     Time\n",
       "0      8    1  actual      Total     1  4930.90  8/1/2019  1:00:00\n",
       "1      8    1  actual         KP     1  2315.77  8/1/2019  1:00:00\n",
       "2      8    1  actual         MP     1  2615.13  8/1/2019  1:00:00\n",
       "3      8    1  actual  unbalance     1  -621.90  8/1/2019  1:00:00\n",
       "4      8    1    plan      Total     1  4309.00  8/1/2019  1:00:00"
      ]
     },
     "execution_count": 57,
     "metadata": {},
     "output_type": "execute_result"
    }
   ],
   "source": [
    "df.head()"
   ]
  },
  {
   "cell_type": "code",
   "execution_count": 58,
   "metadata": {
    "collapsed": true
   },
   "outputs": [],
   "source": [
    "df.Date=pd.to_datetime(df.Date)\n",
    "df.Time=pd.to_timedelta(df.Time)\n",
    "df[\"Timeindex\"]=df.Date+df.Time"
   ]
  },
  {
   "cell_type": "code",
   "execution_count": 59,
   "metadata": {},
   "outputs": [
    {
     "data": {
      "text/html": [
       "<div>\n",
       "<style>\n",
       "    .dataframe thead tr:only-child th {\n",
       "        text-align: right;\n",
       "    }\n",
       "\n",
       "    .dataframe thead th {\n",
       "        text-align: left;\n",
       "    }\n",
       "\n",
       "    .dataframe tbody tr th {\n",
       "        vertical-align: top;\n",
       "    }\n",
       "</style>\n",
       "<table border=\"1\" class=\"dataframe\">\n",
       "  <thead>\n",
       "    <tr style=\"text-align: right;\">\n",
       "      <th></th>\n",
       "      <th>Month</th>\n",
       "      <th>Day</th>\n",
       "      <th>Version</th>\n",
       "      <th>Shop</th>\n",
       "      <th>Hour</th>\n",
       "      <th>Volume</th>\n",
       "      <th>Date</th>\n",
       "      <th>Time</th>\n",
       "      <th>Timeindex</th>\n",
       "    </tr>\n",
       "  </thead>\n",
       "  <tbody>\n",
       "    <tr>\n",
       "      <th>0</th>\n",
       "      <td>8</td>\n",
       "      <td>1</td>\n",
       "      <td>actual</td>\n",
       "      <td>Total</td>\n",
       "      <td>1</td>\n",
       "      <td>4930.90</td>\n",
       "      <td>2019-08-01</td>\n",
       "      <td>01:00:00</td>\n",
       "      <td>2019-08-01 01:00:00</td>\n",
       "    </tr>\n",
       "    <tr>\n",
       "      <th>1</th>\n",
       "      <td>8</td>\n",
       "      <td>1</td>\n",
       "      <td>actual</td>\n",
       "      <td>KP</td>\n",
       "      <td>1</td>\n",
       "      <td>2315.77</td>\n",
       "      <td>2019-08-01</td>\n",
       "      <td>01:00:00</td>\n",
       "      <td>2019-08-01 01:00:00</td>\n",
       "    </tr>\n",
       "    <tr>\n",
       "      <th>2</th>\n",
       "      <td>8</td>\n",
       "      <td>1</td>\n",
       "      <td>actual</td>\n",
       "      <td>MP</td>\n",
       "      <td>1</td>\n",
       "      <td>2615.13</td>\n",
       "      <td>2019-08-01</td>\n",
       "      <td>01:00:00</td>\n",
       "      <td>2019-08-01 01:00:00</td>\n",
       "    </tr>\n",
       "    <tr>\n",
       "      <th>3</th>\n",
       "      <td>8</td>\n",
       "      <td>1</td>\n",
       "      <td>actual</td>\n",
       "      <td>unbalance</td>\n",
       "      <td>1</td>\n",
       "      <td>-621.90</td>\n",
       "      <td>2019-08-01</td>\n",
       "      <td>01:00:00</td>\n",
       "      <td>2019-08-01 01:00:00</td>\n",
       "    </tr>\n",
       "    <tr>\n",
       "      <th>4</th>\n",
       "      <td>8</td>\n",
       "      <td>1</td>\n",
       "      <td>plan</td>\n",
       "      <td>Total</td>\n",
       "      <td>1</td>\n",
       "      <td>4309.00</td>\n",
       "      <td>2019-08-01</td>\n",
       "      <td>01:00:00</td>\n",
       "      <td>2019-08-01 01:00:00</td>\n",
       "    </tr>\n",
       "  </tbody>\n",
       "</table>\n",
       "</div>"
      ],
      "text/plain": [
       "   Month  Day Version       Shop  Hour   Volume       Date     Time  \\\n",
       "0      8    1  actual      Total     1  4930.90 2019-08-01 01:00:00   \n",
       "1      8    1  actual         KP     1  2315.77 2019-08-01 01:00:00   \n",
       "2      8    1  actual         MP     1  2615.13 2019-08-01 01:00:00   \n",
       "3      8    1  actual  unbalance     1  -621.90 2019-08-01 01:00:00   \n",
       "4      8    1    plan      Total     1  4309.00 2019-08-01 01:00:00   \n",
       "\n",
       "            Timeindex  \n",
       "0 2019-08-01 01:00:00  \n",
       "1 2019-08-01 01:00:00  \n",
       "2 2019-08-01 01:00:00  \n",
       "3 2019-08-01 01:00:00  \n",
       "4 2019-08-01 01:00:00  "
      ]
     },
     "execution_count": 59,
     "metadata": {},
     "output_type": "execute_result"
    }
   ],
   "source": [
    "df.head()"
   ]
  },
  {
   "cell_type": "code",
   "execution_count": null,
   "metadata": {
    "collapsed": true
   },
   "outputs": [],
   "source": []
  },
  {
   "cell_type": "code",
   "execution_count": null,
   "metadata": {},
   "outputs": [],
   "source": []
  },
  {
   "cell_type": "code",
   "execution_count": 33,
   "metadata": {
    "collapsed": true
   },
   "outputs": [],
   "source": []
  },
  {
   "cell_type": "code",
   "execution_count": null,
   "metadata": {},
   "outputs": [],
   "source": []
  },
  {
   "cell_type": "code",
   "execution_count": null,
   "metadata": {},
   "outputs": [],
   "source": []
  },
  {
   "cell_type": "code",
   "execution_count": null,
   "metadata": {},
   "outputs": [],
   "source": []
  },
  {
   "cell_type": "code",
   "execution_count": 50,
   "metadata": {
    "collapsed": true
   },
   "outputs": [],
   "source": []
  },
  {
   "cell_type": "code",
   "execution_count": 51,
   "metadata": {},
   "outputs": [
    {
     "data": {
      "text/plain": [
       "Index(['Month', 'Day', 'Version', 'Shop', 'Hour', 'Volume', 'Date', 'Time',\n",
       "       'Timeindex'],\n",
       "      dtype='object')"
      ]
     },
     "execution_count": 51,
     "metadata": {},
     "output_type": "execute_result"
    }
   ],
   "source": [
    "df.columns"
   ]
  },
  {
   "cell_type": "code",
   "execution_count": null,
   "metadata": {
    "collapsed": true
   },
   "outputs": [],
   "source": []
  }
 ],
 "metadata": {
  "kernelspec": {
   "display_name": "Python 3",
   "language": "python",
   "name": "python3"
  },
  "language_info": {
   "codemirror_mode": {
    "name": "ipython",
    "version": 3
   },
   "file_extension": ".py",
   "mimetype": "text/x-python",
   "name": "python",
   "nbconvert_exporter": "python",
   "pygments_lexer": "ipython3",
   "version": "3.6.6"
  }
 },
 "nbformat": 4,
 "nbformat_minor": 2
}
